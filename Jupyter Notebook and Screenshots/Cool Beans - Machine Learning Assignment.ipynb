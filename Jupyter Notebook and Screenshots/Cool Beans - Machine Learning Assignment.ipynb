{
 "cells": [
  {
   "cell_type": "markdown",
   "metadata": {},
   "source": [
    "**COMS3007 - Machine Learning Assignment 2020**"
   ]
  },
  {
   "cell_type": "markdown",
   "metadata": {},
   "source": [
    "**Group Name: Cool Beans**"
   ]
  },
  {
   "cell_type": "markdown",
   "metadata": {},
   "source": [
    "**Group Members: Michael Gomes – 1644868 , Tristen Paul – 1826461 , Tristan Le Forestier – 1835635 , Anrich Kok – 1893975**"
   ]
  },
  {
   "cell_type": "markdown",
   "metadata": {},
   "source": [
    "**1) Dataset Description**"
   ]
  },
  {
   "cell_type": "markdown",
   "metadata": {},
   "source": [
    "1.1) Basic Description of Dataset:"
   ]
  },
  {
   "cell_type": "markdown",
   "metadata": {},
   "source": [
    "The dataset we chose to use for this assignment is a phishing website features dataset which aims to determine the legitimacy of a website. The target values labels are either -1 or 1 and are used to respectively denote a legitimate or deceptive website. This dataset comprises of 11055 datapoints which each contain 30 attributes.\n"
   ]
  },
  {
   "cell_type": "markdown",
   "metadata": {},
   "source": [
    "1.2) An in-depth description of each attribute and its possible value:"
   ]
  },
  {
   "cell_type": "markdown",
   "metadata": {},
   "source": [
    "* having_IP_Address - This attribute describes if a website URL uses an IP address or a domain name. If the website uses an IP address, it is represented by the value 1 and indicates that the website is more likely to be a phishing site. A value of -1 indicates that the URL uses the domain name.\n",
    "\n",
    "\n",
    "* URL_Length - This attribute describes whether the URL is suspiciously long. If the URL is longer than usual the attribute is given the value 1. If the URL length is unknown it gets the value 0. If the URL length is average or lower it gets the value -1. Sometimes phishers utilise longer URLs as a way to hide questionable parts of a URL and hence this attribute plays a key role in determining the authemticity of a website.\n",
    "\n",
    "\n",
    "* Shortening_Service - This attribute describes if a URL shortening service like tinyURL has been used. This is a feature as some phishing websites may use this technique to hide their own suspicious URL. If a shortening service is used then it is assigned the value 1 otherwise it is assigned the value -1.\n",
    "\n",
    "\n",
    "* having_At_Symbol - This attribute describes if a URL has an \"@\" symbol included in it. Some phishing websites may utilise the \"@\" symbol to make the browser ignore everything before the \"@\" symbol which may indicate that a site is a phishing site. If an \"@\" symbol is used then it is assigned the value 1 otherwise it is assigned the value -1.\n",
    "\n",
    "\n",
    "* double_slash_redirecting - This attribute describes if a URL has another \"//\" included in it past the 6th and 7th position required for HTTP and HTTPS URLs respectively. An extra \"//\" in a seemingly non phishing URL may be used to redirect people to phishing websites and is thus included as a feature. If an extra \"//\" is found then it is assigned the value 1 otherwise it is assigned the value -1.\n",
    "\n",
    "\n",
    "* Prefix_Suffix - This attribute describes if a URL has another \"-\" included in it. Adding a prefix/suffix to a URL is a technique used by phishers to make their URLs look more legitimate. If \"-\" is found in the URL then it is assigned the value 1 otherwise it is assigned the value -1.\n",
    "\n",
    "\n",
    "* having_Sub_Domain - This attribute describes if a URL has multiple subdomains. Usually phishing websites use multiple subdomains in their URL's to trick users to thinking it is a legitimate website. If the URL has more than 2 subdomains, it gets the value 1 and is classified as \"phishing\". If it has 1 subdomain then it gets the value 0 and is classified as \"suspicious\". If it has no subdomains then it gets the value -1 and is classified as \"legitimate\".\n",
    "\n",
    "\n",
    "* SSLfinal_State - This attribute describes if the website utilises HTTPS. The majority of legitimate websites which require the user to input sensitive information use HTTPS instead of HTTP in order to pretect user data. If the website uses a different protocol that is not well known unlike HTTP or HTTPS then it is assigned a value of 1 which means \"phishing\". If the protocol type is well know like HTTP then it gets the value 0 which means it is \"suspicious\". If the website uses HTTPS this attribute gets the value -1.\n",
    "\n",
    "\n",
    "* Domain_registeration_length - This attribute describes the time period that a domain has been registered for. The majority of legitimate website domains are usually paid for multiple years in advance; conversely, phishing website domains have a short life span. If the domain has been registered for a longer period of time, for example, greater than 1 year, then it gets the value -1 otherwise it gets the value 1.\n",
    "\n",
    "\n",
    "* Favicon - This attribute describes if the website has a correctly associated favicon (graphical image associated with a specific website). Some phising websites use favicons that are not associated with their current domain in the URL but ones associated with legitimate websites. If the favicon association is not matched with the current website domain, this feature gets the value 1 which indicates that it is phishing. If they match then the feature is assigned the value -1.\n",
    "\n",
    "\n",
    "* port - This attribute describes if the website is trying to commuinicate over non-standard ports. Phishing websites sometimes try to run their services through non-standard ports. If this happens, the value assigned to the feature is 1 and if the site only uses standard ports the feature is assigned the value -1.\n",
    "\n",
    "\n",
    "* HTTPS_token - This attribute describes if the domain part of the URL contains an HTTPS. Phishers use this to mislead users into believing that a website is authentic. If this is the case, this feature is assigned the value 1 and if not, it is assigned the value -1.\n",
    "\n",
    "\n",
    "* Request_URL - This attribute describes if external components of the website such as pictures and videos are loaded from another domain. Phishers sometimes use assets from other legitimate websites in order to make their site look as legitimate as possible. If this is is true for the particular site, the feature is assigned the value 1 otherwise it is assigned the value -1.\n",
    "\n",
    "\n",
    "* URL_of_Anchor - This attribute describes whether the anchor tag and request URL and the website have the same domain name. A phisher might get access to your main tab and change the anchor tag/request URL so you get redirected to their phishing website. If the anchor tag and request URL have different domain names then the feature is assigned the value 1. If the anchor tag/request URL has no domain and does not redirect it is assigned the value 0. If the anchor tag and request URL have the same main domain names then the feature is assigned the value -1.\n",
    "\n",
    "\n",
    "* Links_in_tags - This attribute describes whether the Meta, Script and Link tags in the HTML code of the website have the same domain as the current website. This is a feature as majority of legitimate websites have all these tags corresponding to the main domain of the current page. If all of the tags do not correspond to the same domain then it is assigned the value 1. If some tags correspond and others do not then it is assigned the value 0. If they all correspond to the same domain then it is assigned the value -1.\n",
    "\n",
    "\n",
    "* SFH - This attribute describes whether the domain in SFHs(Server Form Handler) is the same as the domain of the main page when information is submitted. When some information is submitted it processed by an SFH. If the SFH domain is not the same as the main website domain, it is most probably phishing as submitted information is not usually handled by an external domain. If this is the case then the value assigned is 1. If the SFH domain is blank then it is assigned the value 0 as it is suspicious as something should be done with the submitted data. If the domains match then the value -1 is assigned.\n",
    "\n",
    "\n",
    "* Submitting_to_email - This attribute describes whether a user's submitted information on a website is also mailed to a third party using a \"mailto:\" function instead of going to a server for processing. Phishers can sometimes re-route submitted information from a website to their personal emails by using \"mailto:\" functions. If a \"mailto:\" function is used then the feature is assigned the value 1 otherwise it is assigned the value -1.\n",
    "\n",
    "\n",
    "* Abnormal_URL - This attribute describes whether a website domain has a legitimate identity attached to its URL according to the WHOIS database. If this is not the case then the feature is assigned the value -1 otehrwise it is assigned the value 1.\n",
    "\n",
    "\n",
    "* Redirect - This attribute describes if a website has been redirected a suspicious number of times. It has been found that legitimate websites redirect at maximum one time but phishising websites redirect at least 4 times. If a website redirects a maximum of 3 times and a minimum of once then the feature is assigned the value of 0. If it redirects 4 or more times then it is assigned the value 1.\n",
    "\n",
    "\n",
    "* on_mouseover - This attribute describes if JavaScript and an \"onMouseOver\" event is used to create a falsified URL in the status bar of the current website. If this is true then the feature is assigned the value of 1 otherwise it is assigned the value of -1.\n",
    "\n",
    "\n",
    "* RightClick - This attribute describes if the right-click function has been disabled on the website. Phishers disable right-click functionality on their websites in order to prevent users from accessing the website source in order to look for suspicious code. If the right-click function has been disabled the feature is given the value of 1 and if right-click function has not been disabled it is given the value -1.\n",
    "\n",
    "\n",
    "* popUpWindow - This attribute describes if a pop-up window is used on the website for users to input their personal information. Pop-ups are almost never used in legitimate websites for data input purposes but are frequently used in phishing websites. If a pop-up is used for input then this feature is assigned the value of 1 and if not, it is assigned the value of -1.\n",
    "\n",
    "\n",
    "* Iframe - This attribute describes if iFrame tags are used anywhere in the HTML code of the website. IFrame tags are used display a seperate website within the one currently shown. Phishers use these iFrame tags without borders to make the user think that they are accessing the correct website in order to obtain the user's details. If iFrame tags are present in the HTML code this feature is assigned the value of 1. If no iFrame tags are found it is assigned the value of -1.\n",
    "\n",
    "\n",
    "* age_of_domain - This attribute describes the domain age according to the WHOIS database. Phishing websites are active for short periods of time and hence have small domain ages. If the domain has been active for less than 6 months the value assigned to it is 1. If the domain age is greater than 6 months it is assigned the value of -1.\n",
    "\n",
    "\n",
    "* DNSRecord - This attribute describes if the DNS record identity according to the WHOIS database exists and is recognised. Phishing websites usually have unrecognisable or null DNS identities in their records in the WHOIS databases. If the identity is null or unrecognisable then this feature is assigned the value of 1. If the identity is known then this feature gets the value of -1.\n",
    "\n",
    "\n",
    "* web_traffic - This attribute describes if a website's traffic is suspiciously low. Due to the fact that phishing websites are active for short periods of time, they should have a very little traffic. For example, if the phisher is pretending to be a popular online banking site and the traffic of that specific page does not represent the expected number of vistors then that website should be flagged for phishing. If a website has no traffic then this feature is assigned the value of 1. If the website has a low traffic then it is assigned the value of 0. If it has sufficient traffic then it is assigned the value of -1.\n",
    "\n",
    "\n",
    "* Page_Rank - This attribute describes the page rank of the website. The page rank of a website is a value within the range of 0-1 which indicates the importance of a particular page; the higher the value, the more crucial it is. Most phishing websites will have a very low page rank due to their low visitor traffic as well as short operational period. If the page rank is low this feature is assigned the value of 1 and if the page rank is high it is assigned the value of -1.\n",
    "\n",
    "\n",
    "* Google_Index - This attribute describes whether the web page is shown on Google Index. Google Index is a list of all web site pages that will show up in search results. Phishing websites are usually only accessible for a short amount of time and as a result will not show up on the Google Index. If the website is not on Google Index it is assigned the value of 1 and if it appears on the Google Index it is assigned the value of -1.\n",
    "\n",
    "\n",
    "* Links_pointing_to_page - This attribute describes whether the website has a suspiciously small amount of external links pointing to the same domain. Most legitimate websites have multiple links pointing to themselves whereas phishing websites do not due to their lifespan. If the website has no external links poitning to it this feature is assigned the value of 1, if the website has 1 external link pointing to it this feature is assigned the value of 0 and if the website has a minimum of 2 external links pointing to it this feature is assigned the value of -1.\n",
    "\n",
    "\n",
    "* Statistical_report - This attribute describes whether the domain of the website or IP address attached to website is on the respective lists provided by PhishTank and StopBadware. These lists are updated regularly and provide information about known or suspected phising sites. If the IP address appears on any of the lists this feature is assigned the value of 1 and if it is not on any of the lists it is assigned the value of -1."
   ]
  },
  {
   "cell_type": "markdown",
   "metadata": {},
   "source": [
    "1.3) Example of Data Points:"
   ]
  },
  {
   "cell_type": "markdown",
   "metadata": {},
   "source": [
    "-1,1,1,1,-1,-1,-1,-1,-1,1,1,-1,1,-1,1,-1,-1,-1,0,1,1,1,1,-1,-1,-1,-1,1,1,-1,-1\n",
    "\n",
    "The attribute order in the data point correspond to the order of the attributes in the description above as read from top to bottom. The last value in the data point is the Target Value which in this case is -1 which indicates that this website is a legitimate one.\n",
    "\n",
    "1,0,-1,1,1,-1,1,1,-1,1,1,1,1,0,0,-1,1,1,0,-1,1,-1,1,-1,-1,0,-1,1,1,1,1\n",
    "\n",
    "For the data point above this website is classified with a 1 which means it is not legitimate and is used as a source of data phishing."
   ]
  },
  {
   "cell_type": "markdown",
   "metadata": {},
   "source": [
    "**2) Description about the input structuring**"
   ]
  },
  {
   "cell_type": "markdown",
   "metadata": {},
   "source": [
    "We read in the data in the form of the above examples and split each data point using the \",\" character as a delimiter. Once the data has been split, we have a matrix with dimensions 11055x31. We then create a new matrix called data_full with dimensions 11055x30 which takes in everything from the original matrix except the final column which is contains our target values. We also create an array called labels_full with dimensions 11055x1 which takes in the last target values from our original matrix.\n",
    "\n",
    "We then simultaneously shuffle our data in data_full and labels_full using a random function to ensure that the indices of the labels match the corresponding data.\n",
    "\n",
    "After the data has been shuffled, we take the first 9000 data points and labels and put them into a train_data matrix (9000x30) and an array called train_labels (9000x1) respectively. This is used as training data. \n",
    "The next 1555 data points and labels are added to a test_data matrix (1555x30) and an array called test_labels (1555x1). This serves as our test data.\n",
    "Finally, the next 500 data points and labels are added to a matrix called val_data (500x30) and an array called val_labels (500x1). This data is used for validation.\n",
    "\n",
    "This code can be found in the file called dataImport.py which does all of the above and passes the respective data and label matrices and arrays. The following is a screenshot of that code:"
   ]
  },
  {
   "cell_type": "markdown",
   "metadata": {},
   "source": [
    "![title](dataImportScreenshot.png)"
   ]
  },
  {
   "cell_type": "markdown",
   "metadata": {},
   "source": [
    "**3 & 5) Classification Algorithms and Code of their implementation**"
   ]
  },
  {
   "cell_type": "markdown",
   "metadata": {},
   "source": [
    "We used the following algorithms in this assignment:\n",
    "\n",
    "* Decision Trees\n",
    "\n",
    "* Naive Bayes\n",
    "\n",
    "* Linear Regression\n",
    "\n",
    "* Linear Regression with Regularisation\n",
    "\n",
    "* Logistic Regression\n",
    "\n",
    "The code and desciptions for each of these algorithms are given below.\n"
   ]
  },
  {
   "cell_type": "markdown",
   "metadata": {},
   "source": [
    "Importing necessary libraries and the respective data and label structures discussed above in 2."
   ]
  },
  {
   "cell_type": "code",
   "execution_count": 2,
   "metadata": {},
   "outputs": [],
   "source": [
    "import numpy as np\n",
    "from ete3 import *\n",
    "import math\n",
    "import pandas as pd\n",
    "from dataImport import * #Dataset imports\n",
    "import copy\n",
    "import matplotlib.pyplot as mp\n",
    "import random"
   ]
  },
  {
   "cell_type": "markdown",
   "metadata": {},
   "source": [
    "**Decision Tree Classifier**"
   ]
  },
  {
   "cell_type": "markdown",
   "metadata": {},
   "source": [
    "For this classification method we used the normal ID3 algorithm without pruning to train our decision tree. We chose this algorithm as it was the first algorithm we were exposed to in this course and we wanted to see how it performed relative to some of the other more complex algorithms we learnt later in the course. The dataset given in the decision tree lab did not have as many features as our current dataset and we were curious to see if the algorithm still yielded accurate results given more complex data."
   ]
  },
  {
   "cell_type": "code",
   "execution_count": 3,
   "metadata": {},
   "outputs": [],
   "source": [
    "#Calculate Entropy Function\n",
    "def calc_entropy(data):    \n",
    "    unique = np.unique(data)\n",
    "    count = np.zeros(unique.size)\n",
    "    for iLoop1 in range(len(data)):\n",
    "        for iLoop2 in range(unique.size):\n",
    "            if data[iLoop1] == unique[iLoop2]:\n",
    "                count[iLoop2] = count[iLoop2] + 1\n",
    "\n",
    "    total = len(data)       \n",
    "    entropies = np.zeros(unique.size)\n",
    "    for iLoop1 in range(unique.size):\n",
    "        if count[iLoop1] == 0:\n",
    "            entropies[iLoop1] = 0\n",
    "        else:\n",
    "            entropies[iLoop1] = (count[iLoop1]/total)*math.log((count[iLoop1]/total),2)\n",
    "        \n",
    "    return([-(np.sum(entropies)), unique]) # returns the entropy of the data as well as the set of unique value for the data"
   ]
  },
  {
   "cell_type": "code",
   "execution_count": 4,
   "metadata": {},
   "outputs": [],
   "source": [
    "#create class model for Decision Tree\n",
    "class tree_node:\n",
    "    def __init__(self,data,labels,diagram_node,available_features):\n",
    "        self.data = data  # holds the data which the tree node will use to find the best feature\n",
    "        self.labels = labels  # holds the corresponding labels for each data point\n",
    "        self.diagram_node = diagram_node  # Used for creating the tree diagram\n",
    "        self.available_features = available_features  # Holds the list of names for the remaining features available at a tree node\n",
    "        self.feature_index = None  # Holds the index of the feature in the list of features which provides the most information gain\n",
    "        self.feature_name = None  # Holds the name of the feature which provides the most information gain\n",
    "        self.node_values = None  # Holds the unique values of the feature which provides the most information gain\n",
    "        self.is_leaf = False  # Reflects if the node is a leaf node\n",
    "        self.class_value = None  # Is set to True or False if a node classifies a data point (it is a leaf node)\n",
    "        self.children = None  # Array to hold the children node of this node\n",
    "        self.node_entropy = calc_entropy(labels[:])[0] \n",
    "\n",
    "        if not (self.node_entropy == 0.0 or self.node_entropy == -0.0 or self.data.shape[1] == 0):\n",
    "            self.children = []\n",
    "            self.find_feature()\n",
    "            self.descend_tree()\n",
    "\n",
    "\n",
    "        elif self.data.shape[1] == 0:\n",
    "            self.is_leaf = True\n",
    "            unique, counts = np.unique(self.labels[:], return_counts=True) \n",
    "            majority_class = np.argmax(counts)\n",
    "            self.class_value = unique[majority_class]\n",
    "            self.feature_name = str(self.class_value)\n",
    "            self.diagram_node.name = self.feature_name\n",
    "        else:\n",
    "            self.is_leaf = True\n",
    "            self.class_value = labels[0]\n",
    "            self.feature_name = str(labels[0])\n",
    "            self.diagram_node.name = self.feature_name\n",
    "\n",
    "        \n",
    "    #find features for nodes\n",
    "    def find_feature(self):\n",
    "        #print(\"Finding feature for new node\")\n",
    "        feature_entropies = np.zeros(len(self.available_features))  # initialize the entropy of each feature to 0\n",
    "        info_gains = np.zeros(len(self.available_features))  # init info gains\n",
    "\n",
    "        for i in range(len(info_gains)):\n",
    "            info_gains[i] += self.node_entropy\n",
    "\n",
    "        for i in range(self.data.shape[1]):  # For each feature\n",
    "            #print(\"Working on feature: \", i)\n",
    "            feature_entropies[i], _ = calc_entropy(self.labels[:]) \n",
    "            feature_sub_classes = np.unique(self.data[:,i]) \n",
    "            #print(feature_sub_classes) #works\n",
    "           \n",
    "            for feature in feature_sub_classes:   # for each unique value of the feature calc entropy for each subpoint\n",
    "                sub_clas_data = np.where(self.data[:, i] == feature)[0]   # find the data points where this feature value occurs\n",
    "                #print(sub_clas_data)\n",
    "                #print(self.labels[sub_clas_data])\n",
    "                data_ratio = len(sub_clas_data) / self.data.shape[0]  # calc how much of the total data has this feature value\n",
    "                sub_clas_entropy = calc_entropy(self.labels[sub_clas_data])[0]   # calc entropy for the subset of data with the feature value\n",
    "                info_gains[i] -= data_ratio * sub_clas_entropy  # update the information gain\n",
    "            #print(info_gains)\n",
    "\n",
    "        chosen_feature = info_gains.argmax()   # choose feature which gives max info gain\n",
    "        #print(chosen_feature)\n",
    "        self.feature_index = chosen_feature  # update features of the node class\n",
    "        self.feature_name = self.available_features[self.feature_index]\n",
    "        self.diagram_node.name = self.feature_name\n",
    "        #print(\"Found feature: \", self.feature_name)\n",
    "\n",
    "    # This function is used to add nodes to the tree once the best feature to split the data is found\n",
    "    def descend_tree(self):\n",
    "        #print(\"Descending tree with node entropy value: \", self.node_entropy)\n",
    "        unique, counts = np.unique(self.data[:, self.feature_index],return_counts=True)  # Find the unique values of the chosen feature\n",
    "        #print(unique)\n",
    "        self.node_values = unique  # Update class values which holds the values of the feature it uses\n",
    "        #print(self.node_values)\n",
    "        for value in self.node_values: # For each unqiue value the chosen feature can take\n",
    "            data_for_feature_value = np.where(self.data[:, self.feature_index] == value)[0] # Find data where unique value for the feature occurs\n",
    "            #print(data_for_feature_value)\n",
    "            remaining_features = np.arange(self.data.shape[1]) != self.feature_index # This just drops the chosen feature from the list of unused feature names \n",
    "            #print(remaining_features)\n",
    "            new_child_diagram_node = self.diagram_node.add_child(name=\"Temp\")  # used for making the tree diagram\n",
    "\n",
    "            # For each unique value of the chosen feature we add a new node. Some points to note\n",
    "            # First we only use the data which assigned the unique value we are looking for for the feature\n",
    "            # this is found in the \"data_for_feature_value\" variable above\n",
    "            # Secondly we remove the feature we used to split the data, the unused features are found in the\n",
    "            # variable \"remaining_features\"\n",
    "            self.children = np.append(self.children, tree_node(self.data[data_for_feature_value][:, remaining_features],\n",
    "                                                            self.labels[data_for_feature_value],\n",
    "                                                            new_child_diagram_node,\n",
    "                                                            self.available_features[remaining_features]))\n",
    "\n",
    "\n",
    "    # This function infers (predicts) the class of a new/unseen data point. We call this on the test data points\n",
    "    #need help\n",
    "    def infer(self, data_point):\n",
    "        if not self.is_leaf:                        # if the node we are looking at is not a leaf node (can't classify the data point)\n",
    "            for i in range(len(self.node_values)):                 # look through the set of values the node looks for\n",
    "                if data_point[self.feature_index] == self.node_values[i]:\n",
    "                    remaining_features = np.arange(self.data.shape[1]) != self.feature_index           # to find which branch to descend down\n",
    "                    allocated_class = self.children[i].infer(data_point[remaining_features])           # recursively run the infer function on the child node (excluding the features which have been used already, see how this was done to get \"remaining_features\" when decsending the tree above)\n",
    "                    return allocated_class  # return back up the tree\n",
    "            #print(\"Error found new value, can't classify\")\n",
    "        else:\n",
    "            #print(\"Classified data point as: \", self.class_value)\n",
    "            return (\n",
    "                self.class_value)  # If it is a leaf node then we just return the classification given by the leaf node"
   ]
  },
  {
   "cell_type": "markdown",
   "metadata": {},
   "source": [
    "Now we train the model using the code above and display it:"
   ]
  },
  {
   "cell_type": "code",
   "execution_count": 5,
   "metadata": {},
   "outputs": [],
   "source": [
    "t = Tree()  # Used for diagram, creates tree and adds root node to tree diagram (use as third input to tree_node class)\n",
    "root = tree_node(train_data, train_labels, t, features)  # Use our class to train a decision tree on the training data\n",
    "\n",
    "#print(t.get_ascii(show_internal=True))\n",
    "ts = TreeStyle()\n",
    "\n",
    "def my_layout(node):\n",
    "    F = TextFace(node.name, tight_text=True)\n",
    "    F.rotable = True\n",
    "    F.border.width = 0\n",
    "    F.margin_top = 5\n",
    "    F.margin_bottom = 5\n",
    "    F.margin_left = 5\n",
    "    F.margin_right = 5\n",
    "    add_face_to_node(F, node, column=0, position=\"branch-right\")\n",
    "\n",
    "\n",
    "ts.layout_fn = my_layout\n",
    "ts.mode = 'r'\n",
    "ts.arc_start = 270\n",
    "ts.arc_span = 185\n",
    "ts.draw_guiding_lines = True\n",
    "ts.scale = 100\n",
    "ts.branch_vertical_margin = 100\n",
    "ts.min_leaf_separation = 100\n",
    "ts.show_scale = False\n",
    "#t.show(tree_style=ts)"
   ]
  },
  {
   "cell_type": "markdown",
   "metadata": {},
   "source": [
    "Now we compute the training, testing and validation errors:"
   ]
  },
  {
   "cell_type": "code",
   "execution_count": 5,
   "metadata": {},
   "outputs": [
    {
     "name": "stdout",
     "output_type": "stream",
     "text": [
      "Confusion Matrix for Training:\n",
      "Predicted  -1.0   1.0\n",
      "Actual               \n",
      "-1.0       3928    47\n",
      " 1.0         42  4983\n",
      "\n",
      "Training error for tree model:  0.9901111111111112\n",
      "-------------------------\n",
      "\n",
      "Confusion Matrix for Testing:\n",
      "Predicted  -1.0   1.0\n",
      "Actual               \n",
      "-1.0        679    25\n",
      " 1.0         21   817\n",
      "\n",
      "Testing error for tree model:  0.9620578778135048\n",
      "-------------------------\n",
      "\n",
      "Confusion Matrix for Validation:\n",
      "Predicted  -1.0   1.0\n",
      "Actual               \n",
      "-1.0        205     9\n",
      " 1.0          9   277\n",
      "\n",
      "Validation error for tree model:  0.964\n",
      "-------------------------\n"
     ]
    }
   ],
   "source": [
    "#checking error values for tree\n",
    "\n",
    "pred = []\n",
    "count_correct = 0\n",
    "for i in range(train_data.shape[0]):\n",
    "    out = root.infer(train_data[i]) # infer the class on the data point\n",
    "    if(type(out) == np.ndarray):\n",
    "        pred.append(out[0])\n",
    "    else:\n",
    "        pred.append(out)\n",
    "    is_correct = (pred[i] == train_labels[i])\n",
    "    if is_correct:\n",
    "        count_correct = count_correct + 1\n",
    "train_ans = count_correct / train_labels.shape[0]\n",
    "\n",
    "print(\"Confusion Matrix for Training:\")\n",
    "y_actu = pd.Series(train_labels.reshape(-1), name='Actual')\n",
    "y_pred = pd.Series(np.array(pred), name='Predicted')\n",
    "df_confusion = pd.crosstab(y_actu, y_pred)\n",
    "print(df_confusion)\n",
    "print()\n",
    "print(\"Training error for tree model: \",train_ans)\n",
    "print(\"-------------------------\")\n",
    "print()\n",
    "Tree_Train = train_ans\n",
    "\n",
    "pred = []\n",
    "count_correct = 0\n",
    "for i in range(test_data.shape[0]):\n",
    "    out = root.infer(test_data[i]) # infer the class on the data point\n",
    "    if(type(out) == np.ndarray):\n",
    "        pred.append(out[0])\n",
    "    else:\n",
    "        pred.append(out)\n",
    "    is_correct = (pred[i] == test_labels[i])\n",
    "    if is_correct:\n",
    "        count_correct = count_correct + 1\n",
    "test_ans = count_correct / test_labels.shape[0]\n",
    "\n",
    "print(\"Confusion Matrix for Testing:\")\n",
    "y_actu = pd.Series(test_labels.reshape(-1), name='Actual')\n",
    "y_pred = pd.Series(np.array(pred), name='Predicted')\n",
    "df_confusion = pd.crosstab(y_actu, y_pred)\n",
    "print(df_confusion)\n",
    "print()\n",
    "print(\"Testing error for tree model: \", test_ans)\n",
    "print(\"-------------------------\")\n",
    "print()\n",
    "Tree_Test = test_ans\n",
    "\n",
    "pred = []\n",
    "count_correct = 0\n",
    "for i in range(val_data.shape[0]):\n",
    "    out = root.infer(val_data[i]) # infer the class on the data point\n",
    "    if(type(out) == np.ndarray):\n",
    "        pred.append(out[0])\n",
    "    else:\n",
    "        pred.append(out)\n",
    "    is_correct = (pred[i] == val_labels[i])\n",
    "    if is_correct:\n",
    "        count_correct = count_correct + 1\n",
    "val_ans = count_correct / val_labels.shape[0]\n",
    "\n",
    "print(\"Confusion Matrix for Validation:\")\n",
    "y_actu = pd.Series(val_labels.reshape(-1), name='Actual')\n",
    "y_pred = pd.Series(np.array(pred), name='Predicted')\n",
    "df_confusion = pd.crosstab(y_actu, y_pred)\n",
    "print(df_confusion)\n",
    "print()\n",
    "print(\"Validation error for tree model: \", val_ans)\n",
    "print(\"-------------------------\")\n",
    "Tree_Val = val_ans"
   ]
  },
  {
   "cell_type": "code",
   "execution_count": 6,
   "metadata": {},
   "outputs": [
    {
     "data": {
      "image/png": "[encoded data removed]",
      "text/plain": [
       "<Figure size 432x288 with 1 Axes>"
      ]
     },
     "metadata": {
      "needs_background": "light"
     },
     "output_type": "display_data"
    }
   ],
   "source": [
    "objects = ('Training Accuracy', 'Testing Accuracy', 'Validation Accuracy')\n",
    "y_pos = np.arange(3)\n",
    "performance = [train_ans,test_ans,val_ans]\n",
    "\n",
    "mp.barh(y_pos, performance, align='center', alpha=0.5)\n",
    "mp.yticks(y_pos, objects)\n",
    "mp.xlim(0,1)\n",
    "mp.xlabel('Accuracy')\n",
    "mp.title('Accuracy of algorithm using the different data sets')\n",
    "\n",
    "mp.show()"
   ]
  },
  {
   "cell_type": "markdown",
   "metadata": {},
   "source": [
    "From the results, we observe that the Decision Tree Algorithm performs spectacularly well on this dataset and achieves over 95% accuracy on the training, testing and validation data. It also performs consistently across all the data since the accuracies are relatively close to each other."
   ]
  },
  {
   "cell_type": "markdown",
   "metadata": {},
   "source": [
    "**End of Decision Tree Algorithm**"
   ]
  },
  {
   "cell_type": "markdown",
   "metadata": {},
   "source": [
    "**Naive Bayes Classifier**"
   ]
  },
  {
   "cell_type": "markdown",
   "metadata": {},
   "source": [
    "For this classification method we used the Naive Bayes algorithm. We chose this algorithm due to the fact that it is probabilistic and would allow us to view the certainty level of each prediction. Once again, the lab in which we used this algorithm did not have a dataset with as many features as the one we are using now, and we wanted to see if it still yielded accurate results. "
   ]
  },
  {
   "cell_type": "markdown",
   "metadata": {},
   "source": [
    "First we split our data into it's 2 classes i.e ones that are legitimate denoted by -1 and ones that are phishing denoted by 1:"
   ]
  },
  {
   "cell_type": "code",
   "execution_count": 7,
   "metadata": {},
   "outputs": [],
   "source": [
    "#seperate classes into positive and negative\n",
    "negative = []\n",
    "positive = []\n",
    "for i in range(train_data.shape[0]):  # positive\n",
    "    if train_labels[i] == -1:\n",
    "        negative.append(train_data[i])\n",
    "    elif train_labels[i] == 1:\n",
    "        positive.append(train_data[i])\n",
    "\n",
    "probLegit = len(positive)/train_data.shape[0]\n",
    "probPhishing = len(negative)/train_data.shape[0]\n",
    "\n",
    "positive = np.array(positive).reshape(len(positive),30)\n",
    "negative = np.array(negative).reshape(len(negative),30)"
   ]
  },
  {
   "cell_type": "markdown",
   "metadata": {},
   "source": [
    "Now we find unique feature values for each feature:"
   ]
  },
  {
   "cell_type": "code",
   "execution_count": 8,
   "metadata": {},
   "outputs": [],
   "source": [
    "#get unique feature values for each feature\n",
    "feature_vals = []\n",
    "probPos = []\n",
    "probNeg = []\n",
    "for i in range(train_data.shape[1]):\n",
    "    unique_vals = np.unique(train_data[:,i])\n",
    "    zero1 = np.zeros(len(unique_vals))\n",
    "    zero2 = np.zeros(len(unique_vals))\n",
    "    probPos.append(zero1)\n",
    "    probNeg.append(zero2)\n",
    "    feature_vals.append(unique_vals)"
   ]
  },
  {
   "cell_type": "markdown",
   "metadata": {},
   "source": [
    "Now we calculate different probability sets for our features:"
   ]
  },
  {
   "cell_type": "code",
   "execution_count": 9,
   "metadata": {},
   "outputs": [],
   "source": [
    "for i in range(negative.shape[0]):\n",
    "    for j in range(negative.shape[1]):\n",
    "        if(negative[i,j]==1):\n",
    "            index = np.where(feature_vals[j] == 1)\n",
    "            probNeg[j][index]+=1\n",
    "\n",
    "        elif (negative[i,j]==-1):\n",
    "            index = np.where(feature_vals[j] == -1)\n",
    "            probNeg[j][index] += 1\n",
    "\n",
    "        else:\n",
    "            index = np.where(feature_vals[j] == 0)\n",
    "            probNeg[j][index] += 1\n",
    "\n",
    "\n",
    "for i in range(positive.shape[0]):\n",
    "    for j in range(positive.shape[1]):\n",
    "        if(positive[i,j]==1):\n",
    "            index = np.where(feature_vals[j] == 1)\n",
    "            probPos[j][index]+=1\n",
    "\n",
    "        elif (positive[i,j]==-1):\n",
    "            index = np.where(feature_vals[j] == -1)\n",
    "            probPos[j][index] += 1\n",
    "\n",
    "        else:\n",
    "            index = np.where(feature_vals[j] == 0)\n",
    "            probPos[j][index] += 1\n",
    "\n",
    "for j in range(train_data.shape[1]):\n",
    "    probPos[j][:] /= train_data.shape[0]\n",
    "    probNeg[j][:] /= train_data.shape[0]"
   ]
  },
  {
   "cell_type": "markdown",
   "metadata": {},
   "source": [
    "We will use the following to train the Naive Bayes  model with all our training data and labels: "
   ]
  },
  {
   "cell_type": "code",
   "execution_count": 10,
   "metadata": {},
   "outputs": [],
   "source": [
    "class naiveModel:\n",
    "    def __init__(self,probPos,probNeg,feature_vals,probLegit,probPhishing):\n",
    "        self.probPos = probPos\n",
    "        self.probNeg = probNeg\n",
    "        self.features = feature_vals\n",
    "        self.probLegit = probLegit\n",
    "        self.probPhis = probPhishing\n",
    "\n",
    "        # print(self.probPhis)\n",
    "        # print(self.probLegit)\n",
    "        # print(self.features)\n",
    "        # print(self.probPos)\n",
    "        # print(self.probNeg)\n",
    "    def probability(self,input,probabilitySet):\n",
    "        pSc = 1\n",
    "        for i in range(len(self.features)):\n",
    "            # print(input[i])\n",
    "            index = np.where(self.features[i] == input[i])\n",
    "            # print(index)\n",
    "            pSc *= (probabilitySet[i][index])\n",
    "        return pSc\n",
    "\n",
    "    def infer(self,input):\n",
    "        valTrue = self.probability(input,self.probPos)\n",
    "        valFalse = self.probability(input,self.probNeg)\n",
    "\n",
    "        valTrue = (valTrue*self.probLegit)/(self.probLegit*valTrue + valFalse*self.probPhis)\n",
    "        valFalse = 1-valTrue\n",
    "\n",
    "        if (valTrue > valFalse):\n",
    "            probValue = valTrue\n",
    "            probClass = \"1\"\n",
    "        elif (valTrue < valFalse):\n",
    "            probValue = valFalse\n",
    "            probClass = \"-1\"\n",
    "        else:\n",
    "            # make random guess\n",
    "            probValue = 0.5\n",
    "            probClass = random.choice(\"1\",\"-1\")\n",
    "\n",
    "        return ([probValue, probClass])"
   ]
  },
  {
   "cell_type": "markdown",
   "metadata": {},
   "source": [
    "Now we create a function to test our different sets of values and return their confusion matrices and probabilties."
   ]
  },
  {
   "cell_type": "code",
   "execution_count": 11,
   "metadata": {},
   "outputs": [],
   "source": [
    "def testError(test_data,test_labels):\n",
    "    y_pred = []\n",
    "    y_actu = []\n",
    "    for i in range(test_data.shape[0]):\n",
    "        probability, resultClass = nModel.infer(test_data[i])  # calculate probability of which class and return result\n",
    "        if resultClass == \"1\":\n",
    "            # print(\"URL features are: \")\n",
    "            # print(test_data[i])\n",
    "            # print(\"This URL is Legit\")\n",
    "            # print(\"Probability is: \")\n",
    "            # print(probability)\n",
    "            # print()\n",
    "            y_pred.append(1.0)\n",
    "        elif resultClass == \"-1\":\n",
    "            # print(\"URL features are: \")\n",
    "            # print(test_data[i])\n",
    "            # print(\"This URL is Phishing\")\n",
    "            # print(\"Probability: \")\n",
    "            # print(probability)\n",
    "            # print()\n",
    "            y_pred.append(-1.0)\n",
    "\n",
    "    for i in range(len(test_labels)):\n",
    "        y_actu.append(test_labels[i][0])\n",
    "\n",
    "#     print(\"Results:\")\n",
    "#     print()\n",
    "#     print(\"---------------------\")\n",
    "#     print(\"Predicted:\")\n",
    "#     print(y_pred)\n",
    "#     print(\"Actual:\")\n",
    "#     print(y_actu)\n",
    "#     print(\"---------------------\")\n",
    "\n",
    "    total = test_data.shape[0]\n",
    "    count = 0\n",
    "    for i in range(test_data.shape[0]):\n",
    "        if y_pred[i] == y_actu[i]:\n",
    "            count = count + 1\n",
    "\n",
    "    y_actu = pd.Series(y_actu, name='Actual')\n",
    "    y_pred = pd.Series(y_pred, name='Predicted')\n",
    "    df_confusion = pd.crosstab(y_actu, y_pred)\n",
    "    print(df_confusion)\n",
    "\n",
    "    print()\n",
    "    print(\"Accuracy:\")\n",
    "    print(float(count / total))\n",
    "    print(\"-------------------------\")\n",
    "    print()\n",
    "    return float(count / total)"
   ]
  },
  {
   "cell_type": "markdown",
   "metadata": {},
   "source": [
    "Lastly we train our class model and test the different data sets."
   ]
  },
  {
   "cell_type": "code",
   "execution_count": 12,
   "metadata": {},
   "outputs": [
    {
     "name": "stdout",
     "output_type": "stream",
     "text": [
      "Model trained using training data...\n"
     ]
    }
   ],
   "source": [
    "nModel = naiveModel(probPos,probNeg,feature_vals,probLegit,probPhishing)\n",
    "print(\"Model trained using training data...\")"
   ]
  },
  {
   "cell_type": "markdown",
   "metadata": {},
   "source": [
    "Now we compute the training, testing and validation errors:"
   ]
  },
  {
   "cell_type": "code",
   "execution_count": 13,
   "metadata": {},
   "outputs": [
    {
     "name": "stdout",
     "output_type": "stream",
     "text": [
      "Confusion Matrix for Training:\n",
      "Predicted  -1.0   1.0\n",
      "Actual               \n",
      "-1.0       2022  1953\n",
      " 1.0          0  5025\n",
      "\n",
      "Accuracy:\n",
      "0.783\n",
      "-------------------------\n",
      "\n",
      "Confusion Matrix for Testing:\n",
      "Predicted  -1.0   1.0\n",
      "Actual               \n",
      "-1.0        358   351\n",
      " 1.0          0   846\n",
      "\n",
      "Accuracy:\n",
      "0.7742765273311897\n",
      "-------------------------\n",
      "\n",
      "Confusion Matrix for Validation:\n",
      "Predicted  -1.0   1.0\n",
      "Actual               \n",
      "-1.0        105   109\n",
      " 1.0          0   286\n",
      "\n",
      "Accuracy:\n",
      "0.782\n",
      "-------------------------\n",
      "\n"
     ]
    }
   ],
   "source": [
    "print(\"Confusion Matrix for Training:\")\n",
    "train_ans = testError(train_data,train_labels)\n",
    "Naive_Train = train_ans\n",
    "\n",
    "print(\"Confusion Matrix for Testing:\")\n",
    "test_ans = testError(test_data,test_labels)\n",
    "Naive_Test = test_ans\n",
    "\n",
    "print(\"Confusion Matrix for Validation:\")\n",
    "val_ans = testError(val_data,val_labels)\n",
    "Naive_Val = val_ans"
   ]
  },
  {
   "cell_type": "code",
   "execution_count": 14,
   "metadata": {},
   "outputs": [
    {
     "data": {
      "image/png": "[encoded data removed]",
      "text/plain": [
       "<Figure size 432x288 with 1 Axes>"
      ]
     },
     "metadata": {
      "needs_background": "light"
     },
     "output_type": "display_data"
    }
   ],
   "source": [
    "objects = ('Training Accuracy', 'Testing Accuracy', 'Validation Accuracy')\n",
    "y_pos = np.arange(3)\n",
    "performance = [train_ans,test_ans,val_ans]\n",
    "\n",
    "mp.barh(y_pos, performance, align='center', alpha=0.5)\n",
    "mp.yticks(y_pos, objects)\n",
    "mp.xlim(0,1)\n",
    "mp.xlabel('Accuracy')\n",
    "mp.title('Accuracy of algorithm using the different data sets')\n",
    "\n",
    "mp.show()"
   ]
  },
  {
   "cell_type": "markdown",
   "metadata": {},
   "source": [
    "From the results, we can clearly see that the Naive Bayes Algorithm performs quite well on this dataset but not as well as the Decision Tree classifier. It still manages to achieve around 78% accuracy on the training, testing and validation data. We can also once again say that it performs quite consistently across all the data as the accuracies were quite close to each other."
   ]
  },
  {
   "cell_type": "markdown",
   "metadata": {},
   "source": [
    "**End of Naive Bayes Algorithm**"
   ]
  },
  {
   "cell_type": "markdown",
   "metadata": {},
   "source": [
    "**Linear Regression Classifier**"
   ]
  },
  {
   "cell_type": "markdown",
   "metadata": {},
   "source": [
    "For this classification method we used the normal linear regression via gradient descent but without regularisation. We chose this algorithm as we were wondering how well we could use it as a classifier especially with all the features this dataset has. \n",
    "\n",
    "We used 31 basis functions for each different datapoint in the design matrix: 1,feature 1 value of datapoint,feature 2 value of datapoint,feature 3 value of datapoint,...,feature 30 value of datapoint. Thus we end up with a design matrix for the training data of shape 9000x31, test data of shape 1555x31 and validation data of shape 500x31. We chose these basis functions as we wanted to see how well linear regression would work with basis functions that were of the power of 1 and not products between different functions. We also randomly initialised the 31 weights/thetas using random values from a uniform distribution of mean 0 and standard deviation of 1.\n",
    "\n",
    "During the tuning of hyperparameters, we decided to use a learning rate/alpha of value 0.00001 as we observed that this learning rate yielded the greatest accuracy. We found that when using a smaller learning rate the classifier took too long to converge and when using a larger learning rate, it would sometimes never converge. Please see the cells below for proof of these claims.\n",
    "\n",
    "We found that the predicted continuous values using this model had some degree of seperation from a central value which may be used to classify them as 1.0 or -1.0. We took the predicted continuous values after training and futhermore calculated their mean. Any predicted value greater than or equal to this mean would be classified as a 1.0 and any predicted value less than this mean would be classified as -1.0. Thus the same mean is used as a decision boundary for the training, testing and validation data.\n",
    "\n",
    "The training of the algorithm(gradient descent) runs until the 2-norm of the theta values < 1E-8 which indicates convergence."
   ]
  },
  {
   "cell_type": "markdown",
   "metadata": {},
   "source": [
    "The following screenshots are an example of what accuracies we got when the made the alpha value smaller than 0.00001:\n",
    "N.B. I would show an example of accuracies when we make the alpha value larger also but most of the time it never converged."
   ]
  },
  {
   "cell_type": "markdown",
   "metadata": {},
   "source": [
    "![title](linReg1.png)\n",
    "![title](linReg2.png)\n",
    "![title](linReg3.png)"
   ]
  },
  {
   "cell_type": "markdown",
   "metadata": {},
   "source": [
    "Code we will use to train model and infer on the other sets with alpha set to 0.00001:"
   ]
  },
  {
   "cell_type": "code",
   "execution_count": 15,
   "metadata": {},
   "outputs": [],
   "source": [
    "class linearRegression:\n",
    "    def __init__(self,train_data,train_labels,theta_init):\n",
    "        self.train_data = train_data\n",
    "        self.train_labels = train_labels\n",
    "        self.dMatrixTrain = np.zeros((train_data.shape[0],train_data.shape[1]+1))\n",
    "        self.dMatrixTrain[:,0]=1\n",
    "        i = 1\n",
    "        for i in range(train_data.shape[1]):\n",
    "            self.dMatrixTrain[:,i]=train_data[:,i]\n",
    "\n",
    "        self.y_vals = train_labels[:].reshape(-1)\n",
    "        self.theta_pred_GD = theta_init.copy()\n",
    "        self.theta_diff = np.zeros(train_data.shape[1]+1)\n",
    "        self.descent_vals = np.dot(self.dMatrixTrain,self.theta_pred_GD)\n",
    "        self.meanTrain = 0\n",
    "\n",
    "    def train(self):\n",
    "        alpha = 0.00001\n",
    "        iterations = 1\n",
    "        print(\"Alpha/Learning Rate\")\n",
    "        print(alpha)\n",
    "        print()\n",
    "        i=0\n",
    "        j=0\n",
    "        print(\"Original initialised theta values\")\n",
    "        print(self.theta_pred_GD)\n",
    "        print()\n",
    "        while(np.linalg.norm(self.theta_diff,2)>0.00000001) or (i==0 and iterations==1): \n",
    "            #for each theta\n",
    "            for j in range(self.train_data.shape[1]+1):\n",
    "                gradi = (self.descent_vals[i]- self.y_vals[i])*self.dMatrixTrain[i][j]\n",
    "                self.theta_diff[j] = abs(self.theta_pred_GD[j]-alpha*gradi-self.theta_pred_GD[j])\n",
    "                self.theta_pred_GD[j] = self.theta_pred_GD[j]-alpha*gradi\n",
    "                self.descent_vals = np.asarray(self.dMatrixTrain.dot(self.theta_pred_GD)).reshape(-1)\n",
    "\n",
    "            i = i + 1\n",
    "\n",
    "            if i==self.train_data.shape[0]:\n",
    "                i=0\n",
    "            iterations += 1\n",
    "    \n",
    "        print(\"Calculated thetas using Gradient Descent:\")\n",
    "        print(self.theta_pred_GD)\n",
    "        self.descent_vals = np.asarray(self.dMatrixTrain.dot(self.theta_pred_GD)).reshape(-1)\n",
    "        \n",
    "        print()\n",
    "        print(\"Actual labels of training data\")\n",
    "        print(self.y_vals)\n",
    "        \n",
    "        print()\n",
    "        print(\"Predicted values of training data\")\n",
    "        print(self.descent_vals)\n",
    "        \n",
    "        print()\n",
    "        print(\"Mean that will be used as decision boundary\")\n",
    "        self.meanTrain = np.sum(np.array(self.descent_vals))/self.train_data.shape[0]\n",
    "        print(self.meanTrain)\n",
    "        predictedYValues = []\n",
    "        for j in range(self.train_data.shape[0]):\n",
    "            if(self.descent_vals[j] >= self.meanTrain):\n",
    "                predictedYValues.append(1.)\n",
    "            else:\n",
    "                predictedYValues.append(-1.)\n",
    "        print()\n",
    "        print(\"After putting predicted continuous values through decision boundary\")\n",
    "        print(np.array(predictedYValues))\n",
    "        return predictedYValues\n",
    "\n",
    "    def infer(self,input):\n",
    "        dMatrixOther = np.zeros((input.shape[0],input.shape[1]+1))\n",
    "        dMatrixOther[:,0]=1\n",
    "        i = 1\n",
    "        for i in range(input.shape[1]):\n",
    "            dMatrixOther[:,i]=input[:,i]\n",
    "\n",
    "        descent_valsOther = np.dot(dMatrixOther,self.theta_pred_GD)\n",
    "\n",
    "        predictedYValuesOther = []\n",
    "        for j in range(input.shape[0]):\n",
    "            if(descent_valsOther[j] >= self.meanTrain):\n",
    "                predictedYValuesOther.append(1.)\n",
    "            else:\n",
    "                predictedYValuesOther.append(-1.)\n",
    "        return predictedYValuesOther"
   ]
  },
  {
   "cell_type": "markdown",
   "metadata": {},
   "source": [
    "Now we train the model using the code above:"
   ]
  },
  {
   "cell_type": "code",
   "execution_count": 16,
   "metadata": {},
   "outputs": [
    {
     "name": "stdout",
     "output_type": "stream",
     "text": [
      "Alpha/Learning Rate\n",
      "1e-05\n",
      "\n",
      "Original initialised theta values\n",
      "[0.03052677 0.63704864 0.32018559 0.12463098 0.02304814 0.55619361\n",
      " 0.51792906 0.50477338 0.23232713 0.9863715  0.82262516 0.99414685\n",
      " 0.39898618 0.34300795 0.02986272 0.73676063 0.86461745 0.66765734\n",
      " 0.24684599 0.42157647 0.2576714  0.35773843 0.17056024 0.93254676\n",
      " 0.12962183 0.94627489 0.64728959 0.37841903 0.24243509 0.48946095\n",
      " 0.75335357]\n",
      "\n",
      "Calculated thetas using Gradient Descent:\n",
      "[-0.02366495  0.68271432  0.20586428  0.01731139 -0.0904842   0.63075801\n",
      "  0.49441781  0.45068304  0.28036174  0.84365263  0.67680895  0.87898991\n",
      "  0.34984514  0.33217985  0.04809576  0.78379939  0.72277135  0.54929378\n",
      "  0.2395644   0.28150046  0.12945699  0.21771082  0.03251069  0.88356002\n",
      "  0.05127419  0.88593889  0.68089105  0.28143084  0.20932801  0.36854648\n",
      "  0.75335357]\n",
      "\n",
      "Actual labels of training data\n",
      "[ 1. -1. -1. ... -1.  1.  1.]\n",
      "\n",
      "Predicted values of training data\n",
      "[-0.81763231  3.0155923   0.02197189 ...  2.18569083  2.34374303\n",
      "  3.54701735]\n",
      "\n",
      "Mean that will be used as decision boundary\n",
      "2.3383354072461957\n",
      "\n",
      "After putting predicted continuous values through decision boundary\n",
      "[-1.  1. -1. ... -1.  1.  1.]\n"
     ]
    }
   ],
   "source": [
    "theta_init = np.random.uniform(0,1,train_data.shape[1]+1)\n",
    "linearRegModel = linearRegression(train_data,train_labels,theta_init)\n",
    "predictedYValues = linearRegModel.train()"
   ]
  },
  {
   "cell_type": "markdown",
   "metadata": {},
   "source": [
    "Now we compute the training, testing and validation errors:"
   ]
  },
  {
   "cell_type": "code",
   "execution_count": 17,
   "metadata": {},
   "outputs": [
    {
     "name": "stdout",
     "output_type": "stream",
     "text": [
      "Confusion Matrix for Training:\n",
      "Predicted  -1.0   1.0\n",
      "Actual               \n",
      "-1.0       2661  1314\n",
      " 1.0       1451  3574\n",
      "\n",
      "Training Data Accuracy:\n",
      "0.6927777777777778\n",
      "-------------------------\n",
      "\n",
      "Confusion Matrix for Testing:\n",
      "Predicted  -1.0   1.0\n",
      "Actual               \n",
      "-1.0        480   229\n",
      " 1.0        242   604\n",
      "\n",
      "Test Data Accuracy:\n",
      "0.6971061093247588\n",
      "-------------------------\n",
      "\n",
      "Confusion Matrix for Validation:\n",
      "Predicted  -1.0   1.0\n",
      "Actual               \n",
      "-1.0        144    70\n",
      " 1.0         80   206\n",
      "\n",
      "Validation Data Accuracy:\n",
      "0.7\n",
      "-------------------------\n"
     ]
    }
   ],
   "source": [
    "total = train_data.shape[0]\n",
    "count = 0\n",
    "for i in range(train_data.shape[0]):\n",
    "    if float(train_labels[i]) == predictedYValues[i]:\n",
    "        count = count + 1 \n",
    "    \n",
    "print(\"Confusion Matrix for Training:\")\n",
    "y_actualTrain = pd.Series(train_labels.reshape(-1), name='Actual')\n",
    "y_predTrain = pd.Series(predictedYValues, name='Predicted')\n",
    "df_confusion = pd.crosstab(y_actualTrain,y_predTrain)\n",
    "print(df_confusion)\n",
    "print()\n",
    "print(\"Training Data Accuracy:\")\n",
    "print(float(count/total))\n",
    "train_ans = float(count/total)\n",
    "print(\"-------------------------\")\n",
    "print()\n",
    "Lin_Train = train_ans\n",
    "\n",
    "predictedYValuesTest = linearRegModel.infer(test_data)\n",
    "total = test_data.shape[0]\n",
    "count = 0\n",
    "for i in range(test_data.shape[0]):\n",
    "    if float(test_labels[i]) == predictedYValuesTest[i]:\n",
    "        count = count + 1\n",
    "\n",
    "print(\"Confusion Matrix for Testing:\")\n",
    "y_actualTest = pd.Series(test_labels.reshape(-1), name='Actual')\n",
    "y_predTest = pd.Series(predictedYValuesTest, name='Predicted')\n",
    "df_confusion = pd.crosstab(y_actualTest,y_predTest)\n",
    "print(df_confusion)\n",
    "print()\n",
    "print(\"Test Data Accuracy:\")\n",
    "print(float(count/total))\n",
    "test_ans = float(count/total)\n",
    "print(\"-------------------------\")\n",
    "print()\n",
    "Lin_Test = test_ans\n",
    "\n",
    "predictedYValuesValid = linearRegModel.infer(val_data)\n",
    "total = val_data.shape[0]\n",
    "count = 0\n",
    "for i in range(val_data.shape[0]):\n",
    "    if float(val_labels[i]) == predictedYValuesValid[i]:\n",
    "        count = count + 1\n",
    "\n",
    "print(\"Confusion Matrix for Validation:\")\n",
    "y_actualValid = pd.Series(val_labels.reshape(-1), name='Actual')\n",
    "y_predValid = pd.Series(predictedYValuesValid, name='Predicted')\n",
    "df_confusion = pd.crosstab(y_actualValid,y_predValid)\n",
    "print(df_confusion)\n",
    "print()\n",
    "print(\"Validation Data Accuracy:\")\n",
    "print(float(count/total))\n",
    "val_ans = float(count/total)\n",
    "print(\"-------------------------\")\n",
    "Lin_Val = val_ans"
   ]
  },
  {
   "cell_type": "code",
   "execution_count": 18,
   "metadata": {},
   "outputs": [
    {
     "data": {
      "image/png": "[encoded data removed]",
      "text/plain": [
       "<Figure size 432x288 with 1 Axes>"
      ]
     },
     "metadata": {
      "needs_background": "light"
     },
     "output_type": "display_data"
    }
   ],
   "source": [
    "objects = ('Training Accuracy', 'Testing Accuracy', 'Validation Accuracy')\n",
    "y_pos = np.arange(3)\n",
    "performance = [train_ans,test_ans,val_ans]\n",
    "\n",
    "mp.barh(y_pos, performance, align='center', alpha=0.5)\n",
    "mp.yticks(y_pos, objects)\n",
    "mp.xlim(0,1)\n",
    "mp.xlabel('Accuracy')\n",
    "mp.title('Accuracy of algorithm using the different data sets')\n",
    "\n",
    "mp.show()"
   ]
  },
  {
   "cell_type": "markdown",
   "metadata": {},
   "source": [
    "From the results, we can clearly see that this algorithm performs decently on this dataset but does not yield extremely precise results. It gets around 70% of predictions correct, but this may be due to our choice of decision boundary (training predicted continuous mean). It is possible that using more complex basis functions could yield better results. This algorithm is actually one of the most consistent so far as the accuracies are between 0.1% of each other."
   ]
  },
  {
   "cell_type": "markdown",
   "metadata": {},
   "source": [
    "**End Of Normal Linear Regression Classifier**"
   ]
  },
  {
   "cell_type": "markdown",
   "metadata": {},
   "source": [
    "**Linear Regression with Regularisation Classifier**"
   ]
  },
  {
   "cell_type": "markdown",
   "metadata": {},
   "source": [
    "For this classification method we used the normal linear regression via gradient descent but this time with the inclusion of regularisation. We chose this algorithm as we were wondering how much of an impact regularisation could have on the performance of this algorithm on our dataset. \n",
    "\n",
    "We used the same basis functions and design matrices that we used in the previous method and also used the same initial weights/thetas.\n",
    "\n",
    "We kept the learning rate/alpha 0.00001 in order to keep the hyperparameters as constant as possible in order to accurately evaluate the effect of regularisation.\n",
    "\n",
    "During the tuning of hyperparameters, we found that a lambda value of 2 yielded the best results. Using a number greater or smaller by a value of 1 led to decreased accuracy of the mdoel. Please see the cells below for proof of these claims. \n",
    "\n",
    "We found that the predicted continuous values using this model had some degree of separation from a central value which may be used to classify them as 1.0 or -1.0. We took the predicted continuous values after training and furthermore calculated their mean. Any predicted value greater than or equal to this mean was classified as a 1.0 and any predicted value less than this mean was classified as -1.0. Thus the same mean is used as a decision boundary for the training, testing and validation data.\n",
    "\n",
    "The training of the algorithm(gradient descent) runs until the 2-norm of the theta values < 1E-5 which indicates convergence."
   ]
  },
  {
   "cell_type": "markdown",
   "metadata": {},
   "source": [
    "The following screenshots are an example of what accuracies we got when the made the lambda value set to 1:"
   ]
  },
  {
   "cell_type": "markdown",
   "metadata": {},
   "source": [
    "![title](linRegWReg1.png)\n",
    "![title](linRegWReg2.png)\n",
    "![title](linRegWReg3.png)"
   ]
  },
  {
   "cell_type": "markdown",
   "metadata": {},
   "source": [
    "The following screenshots are an example of what accuracies we got when the made the lambda value set to 3:"
   ]
  },
  {
   "cell_type": "markdown",
   "metadata": {},
   "source": [
    "![title](linRegWReg4.png)\n",
    "![title](linRegWReg5.png)\n",
    "![title](linRegWReg6.png)"
   ]
  },
  {
   "cell_type": "markdown",
   "metadata": {},
   "source": [
    "Code we will use to train model and infer on the other sets with lambda set to 2:"
   ]
  },
  {
   "cell_type": "code",
   "execution_count": 19,
   "metadata": {},
   "outputs": [],
   "source": [
    "class linearRegressionWithReg:\n",
    "    def __init__(self,train_data,train_labels,theta_init):\n",
    "        self.train_data = train_data\n",
    "        self.train_labels = train_labels\n",
    "        self.dMatrixTrain = np.zeros((train_data.shape[0],train_data.shape[1]+1))\n",
    "        self.dMatrixTrain[:,0]=1\n",
    "        i = 1\n",
    "        for i in range(train_data.shape[1]):\n",
    "            self.dMatrixTrain[:,i]=train_data[:,i]\n",
    "\n",
    "        self.y_vals = train_labels[:].reshape(-1)\n",
    "        self.theta_pred_GD = theta_init.copy()\n",
    "        self.theta_diff = np.zeros(train_data.shape[1]+1)\n",
    "        self.descent_vals = np.dot(self.dMatrixTrain,self.theta_pred_GD)\n",
    "        self.meanTrain = 0\n",
    "\n",
    "    def train(self):\n",
    "        alpha = 0.00001\n",
    "        iterations = 1\n",
    "        lambdaVal = 2\n",
    "        print(\"Lambda\")\n",
    "        print(lambdaVal)\n",
    "        print()\n",
    "        i=0\n",
    "        j=0\n",
    "        print(self.theta_pred_GD)\n",
    "        print()\n",
    "        while(np.linalg.norm(self.theta_diff,2)>0.00001) or (i==0 and iterations==1): \n",
    "            #for each theta\n",
    "            for j in range(self.train_data.shape[1]+1):\n",
    "                if(j == 0):\n",
    "                    gradi = (self.descent_vals[i]- self.y_vals[i])*self.dMatrixTrain[i][j]\n",
    "                    self.theta_diff[j] = abs(self.theta_pred_GD[j]-alpha*gradi-self.theta_pred_GD[j])\n",
    "                    self.theta_pred_GD[j] = self.theta_pred_GD[j]-alpha*gradi\n",
    "                    self.descent_vals = np.asarray(self.dMatrixTrain.dot(self.theta_pred_GD)).reshape(-1)\n",
    "                else:\n",
    "                    gradi = (self.descent_vals[i]- self.y_vals[i])*self.dMatrixTrain[i][j] + lambdaVal*self.theta_pred_GD[j]\n",
    "                    self.theta_diff[j] = abs(self.theta_pred_GD[j]-alpha*gradi-self.theta_pred_GD[j])\n",
    "                    self.theta_pred_GD[j] = self.theta_pred_GD[j]-alpha*gradi\n",
    "                    self.descent_vals = np.asarray(self.dMatrixTrain.dot(self.theta_pred_GD)).reshape(-1)\n",
    "\n",
    "            i = i + 1\n",
    "\n",
    "            if i==self.train_data.shape[0]:\n",
    "                i=0\n",
    "            iterations += 1\n",
    "\n",
    "        print(\"Calculated thetas using Gradient Descent:\")\n",
    "        print(self.theta_pred_GD)\n",
    "        self.descent_vals = np.asarray(self.dMatrixTrain.dot(self.theta_pred_GD)).reshape(-1)\n",
    "        \n",
    "        print()\n",
    "        print(\"Actual labels of training data\")\n",
    "        print(self.y_vals)\n",
    "        \n",
    "        print()\n",
    "        print(\"Predicted values of training data\")\n",
    "        print(self.descent_vals)\n",
    "        \n",
    "        print()\n",
    "        print(\"Mean that will be used as decision boundary\")\n",
    "        self.meanTrain = np.sum(np.array(self.descent_vals))/self.train_data.shape[0]\n",
    "        print(self.meanTrain)\n",
    "        predictedYValues = []\n",
    "        for j in range(self.train_data.shape[0]):\n",
    "            if(self.descent_vals[j] >= self.meanTrain):\n",
    "                predictedYValues.append(1.)\n",
    "            else:\n",
    "                predictedYValues.append(-1.)\n",
    "        print()\n",
    "        print(\"After putting predicted continuous values through decision boundary\")\n",
    "        print(np.array(predictedYValues))\n",
    "        return predictedYValues\n",
    "\n",
    "    def infer(self,input):\n",
    "        dMatrixOther = np.zeros((input.shape[0],input.shape[1]+1))\n",
    "        dMatrixOther[:,0]=1\n",
    "        i = 1\n",
    "        for i in range(input.shape[1]):\n",
    "            dMatrixOther[:,i]=input[:,i]\n",
    "\n",
    "        descent_valsOther = np.dot(dMatrixOther,self.theta_pred_GD)\n",
    "\n",
    "        predictedYValuesOther = []\n",
    "        for j in range(input.shape[0]):\n",
    "            if(descent_valsOther[j] >= self.meanTrain):\n",
    "                predictedYValuesOther.append(1.)\n",
    "            else:\n",
    "                predictedYValuesOther.append(-1.)\n",
    "        return predictedYValuesOther"
   ]
  },
  {
   "cell_type": "markdown",
   "metadata": {},
   "source": [
    "Now we train the model using the code above:"
   ]
  },
  {
   "cell_type": "code",
   "execution_count": 20,
   "metadata": {},
   "outputs": [
    {
     "name": "stdout",
     "output_type": "stream",
     "text": [
      "Lambda\n",
      "2\n",
      "\n",
      "[0.03052677 0.63704864 0.32018559 0.12463098 0.02304814 0.55619361\n",
      " 0.51792906 0.50477338 0.23232713 0.9863715  0.82262516 0.99414685\n",
      " 0.39898618 0.34300795 0.02986272 0.73676063 0.86461745 0.66765734\n",
      " 0.24684599 0.42157647 0.2576714  0.35773843 0.17056024 0.93254676\n",
      " 0.12962183 0.94627489 0.64728959 0.37841903 0.24243509 0.48946095\n",
      " 0.75335357]\n",
      "\n",
      "Calculated thetas using Gradient Descent:\n",
      "[-0.01691928  0.0826419   0.00498927 -0.0202058  -0.05495603  0.15920782\n",
      "  0.10697827  0.16811167  0.04218915  0.10374645  0.07542349  0.14524168\n",
      "  0.06716245  0.13082416  0.04663652  0.14932453  0.06715434  0.06877448\n",
      "  0.05779631  0.00329444  0.00050339 -0.0417233  -0.04854172  0.11805689\n",
      " -0.023189    0.18987253  0.10996853  0.06032932  0.04999007  0.037681\n",
      "  0.18028165]\n",
      "\n",
      "Actual labels of training data\n",
      "[ 1. -1. -1. ... -1.  1.  1.]\n",
      "\n",
      "Predicted values of training data\n",
      "[ 0.18928947 -0.12174987 -0.54149071 ... -0.36818292 -0.01525683\n",
      "  0.3380913 ]\n",
      "\n",
      "Mean that will be used as decision boundary\n",
      "0.059793687385437506\n",
      "\n",
      "After putting predicted continuous values through decision boundary\n",
      "[ 1. -1. -1. ... -1. -1.  1.]\n"
     ]
    }
   ],
   "source": [
    "linearRegModelWithReg = linearRegressionWithReg(train_data,train_labels,theta_init)\n",
    "predictedYValues = linearRegModelWithReg.train()"
   ]
  },
  {
   "cell_type": "markdown",
   "metadata": {},
   "source": [
    "Now we compute the training, testing and validation errors:"
   ]
  },
  {
   "cell_type": "code",
   "execution_count": 21,
   "metadata": {},
   "outputs": [
    {
     "name": "stdout",
     "output_type": "stream",
     "text": [
      "Confusion Matrix for Training:\n",
      "Predicted  -1.0   1.0\n",
      "Actual               \n",
      "-1.0       3404   571\n",
      " 1.0        996  4029\n",
      "\n",
      "Training Data Accuracy:\n",
      "0.8258888888888889\n",
      "-------------------------\n",
      "\n",
      "Confusion Matrix for Testing:\n",
      "Predicted  -1.0   1.0\n",
      "Actual               \n",
      "-1.0        610    99\n",
      " 1.0        164   682\n",
      "\n",
      "Test Data Accuracy:\n",
      "0.8308681672025724\n",
      "-------------------------\n",
      "\n",
      "Confusion Matrix for Validation:\n",
      "Predicted  -1.0   1.0\n",
      "Actual               \n",
      "-1.0        186    28\n",
      " 1.0         60   226\n",
      "\n",
      "Validation Data Accuracy:\n",
      "0.824\n",
      "-------------------------\n"
     ]
    }
   ],
   "source": [
    "total = train_data.shape[0]\n",
    "count = 0\n",
    "for i in range(train_data.shape[0]):\n",
    "    if float(train_labels[i]) == predictedYValues[i]:\n",
    "        count = count + 1 \n",
    "    \n",
    "print(\"Confusion Matrix for Training:\")\n",
    "y_actualTrain = pd.Series(train_labels.reshape(-1), name='Actual')\n",
    "y_predTrain = pd.Series(predictedYValues, name='Predicted')\n",
    "df_confusion = pd.crosstab(y_actualTrain,y_predTrain)\n",
    "print(df_confusion)\n",
    "print()\n",
    "print(\"Training Data Accuracy:\")\n",
    "print(float(count/total))\n",
    "train_ans = float(count/total)\n",
    "print(\"-------------------------\")\n",
    "print()\n",
    "LinReg_Train = train_ans\n",
    "\n",
    "predictedYValuesTest = linearRegModelWithReg.infer(test_data)\n",
    "total = test_data.shape[0]\n",
    "count = 0\n",
    "for i in range(test_data.shape[0]):\n",
    "    if float(test_labels[i]) == predictedYValuesTest[i]:\n",
    "        count = count + 1\n",
    "\n",
    "print(\"Confusion Matrix for Testing:\")\n",
    "y_actualTest = pd.Series(test_labels.reshape(-1), name='Actual')\n",
    "y_predTest = pd.Series(predictedYValuesTest, name='Predicted')\n",
    "df_confusion = pd.crosstab(y_actualTest,y_predTest)\n",
    "print(df_confusion)\n",
    "print()\n",
    "print(\"Test Data Accuracy:\")\n",
    "print(float(count/total))\n",
    "test_ans = float(count/total)\n",
    "print(\"-------------------------\")\n",
    "print()\n",
    "LinReg_Test = test_ans\n",
    "\n",
    "predictedYValuesValid = linearRegModelWithReg.infer(val_data)\n",
    "total = val_data.shape[0]\n",
    "count = 0\n",
    "for i in range(val_data.shape[0]):\n",
    "    if float(val_labels[i]) == predictedYValuesValid[i]:\n",
    "        count = count + 1\n",
    "\n",
    "print(\"Confusion Matrix for Validation:\")\n",
    "y_actualValid = pd.Series(val_labels.reshape(-1), name='Actual')\n",
    "y_predValid = pd.Series(predictedYValuesValid, name='Predicted')\n",
    "df_confusion = pd.crosstab(y_actualValid,y_predValid)\n",
    "print(df_confusion)\n",
    "print()\n",
    "print(\"Validation Data Accuracy:\")\n",
    "print(float(count/total))\n",
    "val_ans = float(count/total)\n",
    "print(\"-------------------------\")\n",
    "LinReg_Val = val_ans"
   ]
  },
  {
   "cell_type": "code",
   "execution_count": 22,
   "metadata": {},
   "outputs": [
    {
     "data": {
      "image/png": "[encoded data removed]",
      "text/plain": [
       "<Figure size 432x288 with 1 Axes>"
      ]
     },
     "metadata": {
      "needs_background": "light"
     },
     "output_type": "display_data"
    }
   ],
   "source": [
    "objects = ('Training Accuracy', 'Testing Accuracy', 'Validation Accuracy')\n",
    "y_pos = np.arange(3)\n",
    "performance = [train_ans,test_ans,val_ans]\n",
    "\n",
    "mp.barh(y_pos, performance, align='center', alpha=0.5)\n",
    "mp.yticks(y_pos, objects)\n",
    "mp.xlim(0,1)\n",
    "mp.xlabel('Accuracy')\n",
    "mp.title('Accuracy of algorithm using the different data sets')\n",
    "\n",
    "mp.show()"
   ]
  },
  {
   "cell_type": "markdown",
   "metadata": {},
   "source": [
    "From the results, we can clearly see that this updated model shows an increase in performance on this dataset and gets around 82% of predictions correct; this makes it our second best algorithm at present. We also observe that regularisation has a major affect on the linear regression algorithm for this dataset with an approximate 10% increase in correct predictions. This algorithm is one of the most consistent that we have found as the Training,Testing and Validation data are within 2% of each other. This algorithm could be improved by using more complex basis functions or finding a better solution to the decision boundary and we would highly recommend making these changes should someone want to use this algorithm and dataset."
   ]
  },
  {
   "cell_type": "markdown",
   "metadata": {},
   "source": [
    "**End Of Linear Regression Classifier With Regularisation**"
   ]
  },
  {
   "cell_type": "markdown",
   "metadata": {},
   "source": [
    "**Logistic Regression Classifier**"
   ]
  },
  {
   "cell_type": "markdown",
   "metadata": {},
   "source": [
    "For this classification method we used the normal logistic regression via gradient descent without regularisation. We chose this algorithm as we were wondering how much better the Logistic Regression algorithm would compare to the Linear Regression algorithm implemented earlier.\n",
    "\n",
    "We used the same basis functions and design matrices as the algorithm above and initialised all thetas/weights to 1.\n",
    "\n",
    "During the tuning of hyperparameters, we found that a learning rate/alpha of value 0.0001 yields the greatest accuracy. Using a smaller or larger learning rate decreased the accuracy would yield vastly less accurate results. Please see the cells below for proof of these claims.\n",
    "\n",
    "The training of the algorithm (gradient descent) runs until the euclidean norm of the theta values < 0.0005 which indicated convergence."
   ]
  },
  {
   "cell_type": "markdown",
   "metadata": {},
   "source": [
    "The following screenshots are an example of what accuracies we got when the made the alpha value smaller than 0.0001:"
   ]
  },
  {
   "cell_type": "markdown",
   "metadata": {},
   "source": [
    "![title](logReg1.png)\n",
    "![title](logReg2.png)"
   ]
  },
  {
   "cell_type": "markdown",
   "metadata": {},
   "source": [
    "The following screenshots are an example of what accuracies we got when the made the alpha value bigger than 0.0001:"
   ]
  },
  {
   "cell_type": "markdown",
   "metadata": {},
   "source": [
    "![title](logReg3.png)\n",
    "![title](logReg4.png)"
   ]
  },
  {
   "cell_type": "markdown",
   "metadata": {},
   "source": [
    "Code we will use to train model and infer on the other sets:"
   ]
  },
  {
   "cell_type": "code",
   "execution_count": 23,
   "metadata": {},
   "outputs": [],
   "source": [
    "class logisticRegression:\n",
    "    def __init__(self,train_data,train_labels):\n",
    "        self.train_data = train_data\n",
    "        self.train_labels = train_labels\n",
    "        self.dMatrixTrain = np.zeros((train_data.shape[0],train_data.shape[1]+1))\n",
    "        self.dMatrixTrain[:,0]=1\n",
    "        i = 1\n",
    "        for i in range(train_data.shape[1]):\n",
    "            self.dMatrixTrain[:,i]=train_data[:,i]\n",
    "\n",
    "        self.y_vals = train_labels[:].reshape(-1)\n",
    "        self.theta_pred_GD = np.ones(train_data.shape[1]+1)\n",
    "        self.theta_old = np.zeros(train_data.shape[1]+1)\n",
    "\n",
    "    def h(self,x,theta): # Regression function\n",
    "        return 1/(1+np.exp(-np.dot(x, theta)))    \n",
    "        \n",
    "    def train(self):\n",
    "        α = 1e-4 # define our learning rate\n",
    "        print(\"Alpha/Learning Rate\")\n",
    "        print(α)\n",
    "        print()\n",
    "        \n",
    "        while np.sqrt(np.sum(np.power(self.theta_pred_GD - self.theta_old, 2))) > 0.0005: # while euclidean norm > 0.0005 (so ϵ = 0.0005) \n",
    "            self.theta_old = self.theta_pred_GD # set old parameter values to parameter values before they are updated\n",
    "            for i in range(self.dMatrixTrain.shape[0]): # loop over each row of the design matrix (each data point)\n",
    "                for j in range(train_data.shape[1]+1):\n",
    "                    self.theta_pred_GD[j] = self.theta_pred_GD[j] - α*( (self.h(self.dMatrixTrain[i,:], self.theta_pred_GD) - self.y_vals[i]) * self.dMatrixTrain[i][j] ) # update the parameters using the update rule\n",
    "        print(\"Model Thetas: \", self.theta_pred_GD) # Print model parameters after convergence\n",
    "        model_predictionsTrain = self.h(self.dMatrixTrain, self.theta_pred_GD)\n",
    "\n",
    "        predictedYValues = []\n",
    "        for j in range(train_data.shape[0]):\n",
    "            if(model_predictionsTrain[j] >= 0.5):\n",
    "                predictedYValues.append(1.)\n",
    "            else:\n",
    "                predictedYValues.append(-1.)\n",
    "        return predictedYValues\n",
    "\n",
    "    def infer(self,input):\n",
    "        dMatrixOther = np.zeros((input.shape[0],input.shape[1]+1))\n",
    "        dMatrixOther[:,0]=1\n",
    "        i = 1\n",
    "        for i in range(input.shape[1]):\n",
    "            dMatrixOther[:,i]=input[:,i]\n",
    "\n",
    "        model_predictionsOther = self.h(dMatrixOther,self.theta_pred_GD)\n",
    "\n",
    "        predictedYValuesOther = []\n",
    "        for j in range(dMatrixOther.shape[0]):\n",
    "            if(model_predictionsOther[j] >= 0.5):\n",
    "                predictedYValuesOther.append(1.)\n",
    "            else:\n",
    "                predictedYValuesOther.append(-1.)\n",
    "        return predictedYValuesOther"
   ]
  },
  {
   "cell_type": "markdown",
   "metadata": {},
   "source": [
    "Now we train the model using the code above:"
   ]
  },
  {
   "cell_type": "code",
   "execution_count": 24,
   "metadata": {},
   "outputs": [
    {
     "name": "stdout",
     "output_type": "stream",
     "text": [
      "Alpha/Learning Rate\n",
      "0.0001\n",
      "\n",
      "Model Thetas:  [0.83646598 1.40700803 0.44903819 0.52895585 0.46487743 1.63767246\n",
      " 1.12267273 1.326608   1.02827793 0.50145784 0.4669962  0.4961027\n",
      " 1.04760529 1.40868414 1.23247305 1.48389094 0.50884471 0.46482946\n",
      " 0.93189994 0.45527304 0.39154054 0.50806028 0.41886181 1.01291822\n",
      " 0.75797378 1.02676416 1.35304882 0.59268716 0.80138454 0.53122142\n",
      " 1.        ]\n"
     ]
    }
   ],
   "source": [
    "logisticRegressionModel = logisticRegression(train_data,train_labels)\n",
    "predictedYValues = logisticRegressionModel.train()"
   ]
  },
  {
   "cell_type": "markdown",
   "metadata": {},
   "source": [
    "Now we compute the training, testing and validation errors:"
   ]
  },
  {
   "cell_type": "code",
   "execution_count": 25,
   "metadata": {},
   "outputs": [
    {
     "name": "stdout",
     "output_type": "stream",
     "text": [
      "Confusion Matrix for Training:\n",
      "\n",
      "Predicted  -1.0   1.0\n",
      "Actual               \n",
      "-1.0       2431  1544\n",
      " 1.0        506  4519\n",
      "Training Data Accuracy:\n",
      "0.7722222222222223\n",
      "-------------------------\n",
      "\n",
      "Confusion Matrix for Testing:\n",
      "\n",
      "Predicted  -1.0   1.0\n",
      "Actual               \n",
      "-1.0        424   285\n",
      " 1.0         88   758\n",
      "Test Data Accuracy:\n",
      "0.760128617363344\n",
      "-------------------------\n",
      "\n",
      "Confusion Matrix for Validation:\n",
      "\n",
      "Predicted  -1.0   1.0\n",
      "Actual               \n",
      "-1.0        140    74\n",
      " 1.0         30   256\n",
      "Validation Data Accuracy:\n",
      "0.792\n",
      "-------------------------\n"
     ]
    }
   ],
   "source": [
    "total = train_data.shape[0]\n",
    "count = 0\n",
    "for i in range(train_data.shape[0]):\n",
    "    if float(train_labels[i]) == predictedYValues[i]:\n",
    "        count = count + 1\n",
    "\n",
    "print(\"Confusion Matrix for Training:\")\n",
    "y_actualTrain = pd.Series(train_labels.reshape(-1), name='Actual')\n",
    "y_predTrain = pd.Series(predictedYValues, name='Predicted')\n",
    "df_confusion = pd.crosstab(y_actualTrain,y_predTrain)\n",
    "print()\n",
    "print(df_confusion)\n",
    "print(\"Training Data Accuracy:\")\n",
    "print(float(count/total))\n",
    "train_ans = float(count/total)\n",
    "print(\"-------------------------\")\n",
    "print()\n",
    "log_Train = train_ans\n",
    "\n",
    "predictedYValuesTest = logisticRegressionModel.infer(test_data)\n",
    "total = test_data.shape[0]\n",
    "count = 0\n",
    "for i in range(test_data.shape[0]):\n",
    "    if float(test_labels[i]) == predictedYValuesTest[i]:\n",
    "        count = count + 1\n",
    "\n",
    "print(\"Confusion Matrix for Testing:\")\n",
    "y_actualTest = pd.Series(test_labels.reshape(-1), name='Actual')\n",
    "y_predTest = pd.Series(predictedYValuesTest, name='Predicted')\n",
    "df_confusion = pd.crosstab(y_actualTest,y_predTest)\n",
    "print()\n",
    "print(df_confusion)\n",
    "print(\"Test Data Accuracy:\")\n",
    "print(float(count/total))\n",
    "test_ans = float(count/total)\n",
    "print(\"-------------------------\")\n",
    "print()\n",
    "log_Test = test_ans\n",
    "\n",
    "predictedYValuesValid = logisticRegressionModel.infer(val_data)\n",
    "total = val_data.shape[0]\n",
    "count = 0\n",
    "for i in range(val_data.shape[0]):\n",
    "    if float(val_labels[i]) == predictedYValuesValid[i]:\n",
    "        count = count + 1\n",
    "\n",
    "print(\"Confusion Matrix for Validation:\")\n",
    "y_actualValid = pd.Series(val_labels.reshape(-1), name='Actual')\n",
    "y_predValid = pd.Series(predictedYValuesValid, name='Predicted')\n",
    "df_confusion = pd.crosstab(y_actualValid,y_predValid)\n",
    "print()\n",
    "print(df_confusion)\n",
    "print(\"Validation Data Accuracy:\")\n",
    "print(float(count/total))\n",
    "val_ans = float(count/total)\n",
    "print(\"-------------------------\")\n",
    "log_Val = val_ans"
   ]
  },
  {
   "cell_type": "code",
   "execution_count": 26,
   "metadata": {},
   "outputs": [
    {
     "data": {
      "image/png": "[encoded data removed]",
      "text/plain": [
       "<Figure size 432x288 with 1 Axes>"
      ]
     },
     "metadata": {
      "needs_background": "light"
     },
     "output_type": "display_data"
    }
   ],
   "source": [
    "objects = ('Training Accuracy', 'Testing Accuracy', 'Validation Accuracy')\n",
    "y_pos = np.arange(3)\n",
    "performance = [train_ans,test_ans,val_ans]\n",
    "\n",
    "mp.barh(y_pos, performance, align='center', alpha=0.5)\n",
    "mp.yticks(y_pos, objects)\n",
    "mp.xlim(0,1)\n",
    "mp.xlabel('Accuracy')\n",
    "mp.title('Accuracy of algorithm using the different data sets')\n",
    "\n",
    "mp.show()"
   ]
  },
  {
   "cell_type": "markdown",
   "metadata": {},
   "source": [
    "From the results, we can clearly see that using logistic regression yields marginally better results than the linear regression algorithm without regularisation. The algorithm makes more than 77% of the predictions correctly and thus is a decent classifier. This algorithm is pretty consistent amongst the Training, Testing and Validation datasets as their accuracies are fairly close. If someone wanted to use this algorithm and dataset I would recommend maybe putting more complex basis functions and tweaking the alpha values simultaneously in order to yield better results."
   ]
  },
  {
   "cell_type": "markdown",
   "metadata": {},
   "source": [
    "**End Of Logistic Regression Classifier**"
   ]
  },
  {
   "cell_type": "markdown",
   "metadata": {},
   "source": [
    "**4) Summary and discussion of results** "
   ]
  },
  {
   "cell_type": "markdown",
   "metadata": {},
   "source": [
    "Let us summarise by showing the accurcies of the different methods on the Training dataset:"
   ]
  },
  {
   "cell_type": "code",
   "execution_count": 27,
   "metadata": {},
   "outputs": [
    {
     "data": {
      "image/png": "[encoded data removed]",
      "text/plain": [
       "<Figure size 432x288 with 1 Axes>"
      ]
     },
     "metadata": {
      "needs_background": "light"
     },
     "output_type": "display_data"
    }
   ],
   "source": [
    "objects = ('Decision Tree', 'Naive Bayes', 'Linear Regression','Lin Reg with Regularisation','Logistic Regression')\n",
    "y_pos = np.arange(5)\n",
    "performance = [Tree_Train,Naive_Train,Lin_Train,LinReg_Train,log_Train]\n",
    "\n",
    "mp.barh(y_pos, performance, align='center', alpha=0.5)\n",
    "mp.yticks(y_pos, objects)\n",
    "mp.xlim(0,1)\n",
    "mp.xlabel('Accuracy')\n",
    "mp.title('Accuracy of algorithms in Training dataset')\n",
    "\n",
    "mp.show()"
   ]
  },
  {
   "cell_type": "markdown",
   "metadata": {},
   "source": [
    "Let us summarise by showing the accurcies of the different methods on the Testing dataset:"
   ]
  },
  {
   "cell_type": "code",
   "execution_count": 28,
   "metadata": {},
   "outputs": [
    {
     "data": {
      "image/png": "[encoded data removed]",
      "text/plain": [
       "<Figure size 432x288 with 1 Axes>"
      ]
     },
     "metadata": {
      "needs_background": "light"
     },
     "output_type": "display_data"
    }
   ],
   "source": [
    "objects = ('Decision Tree', 'Naive Bayes', 'Linear Regression','Lin Reg with Regularisation','Logistic Regression')\n",
    "y_pos = np.arange(5)\n",
    "performance = [Tree_Test,Naive_Test,Lin_Test,LinReg_Test,log_Test]\n",
    "\n",
    "mp.barh(y_pos, performance, align='center', alpha=0.5)\n",
    "mp.yticks(y_pos, objects)\n",
    "mp.xlim(0,1)\n",
    "mp.xlabel('Accuracy')\n",
    "mp.title('Accuracy of algorithms in Testing dataset')\n",
    "\n",
    "mp.show()"
   ]
  },
  {
   "cell_type": "markdown",
   "metadata": {},
   "source": [
    "Let us summarise by showing the accurcies of the different methods on the Validation dataset:"
   ]
  },
  {
   "cell_type": "code",
   "execution_count": 29,
   "metadata": {},
   "outputs": [
    {
     "data": {
      "image/png": "[encoded data removed]",
      "text/plain": [
       "<Figure size 432x288 with 1 Axes>"
      ]
     },
     "metadata": {
      "needs_background": "light"
     },
     "output_type": "display_data"
    }
   ],
   "source": [
    "objects = ('Decision Tree', 'Naive Bayes', 'Linear Regression','Lin Reg with Regularisation','Logistic Regression')\n",
    "y_pos = np.arange(5)\n",
    "performance = [Tree_Val,Naive_Val,Lin_Val,LinReg_Val,log_Val]\n",
    "\n",
    "mp.barh(y_pos, performance, align='center', alpha=0.5)\n",
    "mp.yticks(y_pos, objects)\n",
    "mp.xlim(0,1)\n",
    "mp.xlabel('Accuracy')\n",
    "mp.title('Accuracy of algorithms in Validation dataset')\n",
    "\n",
    "mp.show()"
   ]
  },
  {
   "cell_type": "markdown",
   "metadata": {},
   "source": [
    "From the graphs above we can determine the relative accuracy of each of the algorithms we chose to implement for this assignment. We can definitively say that the Decision Tree/ID3 algorithm is clearly the best for this dataset with an accuracy of over 90%. This is a favourable outcome as an algorithm which can correctly identify 9 out of every 10 phishing sites will be effective in any practical environment. The algorithm which yielded the worst accuracy is the normal Linear Regression algorithm. Whilst it yielded average results, its relative performance was less than satisfactory. This may be due to the fact that Linear Regression algorithms are generally not used for binary classification problems as they output continuous values. This is where Logistic Regression is better suited as it can be used for binary classification problems which is illustrated by its performance on our dataset, yielding 10% higher accuracy than the Linear Regression algorithm. The Linear Regression algorithm with Regularisation was clearly the most surprising result as we did not expect it to be the second best algorithm due to the poor performance of the normal Linear Regression method. From this we can determine that regularisation plays a major role in increasing the accuracy of the model. The Naive Bayes algorithm performed well on the dataset with slightly lower accuracy than Linear Regression with Regularisation. We can also state that all algorithms performed consistently on their respective levels as their Training,Testing and Validation accuracies were very close to each other.\n",
    "\n",
    "If someone were to work with this dataset, we would recommend extending the work done in this assignment by implementing Logistic Regression with Regularisation to see if that comparible accuracy. If the regularisation has the same effect it has on normal Linear Regression it can be assumed that it will lead to a large increase in accuracy over the normal Logistic Regression algorithm. Due to time constraints we were unable to implement a Neural Network for this dataset, however it would also be interesting to observe the results and accuracies which would be achieved and compare them to that of the Decision Tree.\n",
    "\n",
    "From this assignment, we learnt that the Decision Tree/ID3 algorithm is the best classifier we have for this dataset and we would definitely use this to predict whether a website is phishing site."
   ]
  }
 ],
 "metadata": {
  "kernelspec": {
   "display_name": "Python 3",
   "language": "python",
   "name": "python3"
  },
  "language_info": {
   "codemirror_mode": {
    "name": "ipython",
    "version": 3
   },
   "file_extension": ".py",
   "mimetype": "text/x-python",
   "name": "python",
   "nbconvert_exporter": "python",
   "pygments_lexer": "ipython3",
   "version": "3.7.4"
  }
 },
 "nbformat": 4,
 "nbformat_minor": 4
}
